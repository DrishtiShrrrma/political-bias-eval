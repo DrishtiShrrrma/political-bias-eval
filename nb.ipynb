{
 "cells": [
  {
   "cell_type": "code",
   "execution_count": 8,
   "id": "1400c6d3-954e-4be9-bc9b-9b33ae65b1ca",
   "metadata": {},
   "outputs": [],
   "source": [
    "!pip install -qqq tqdm cohere mistralai openai"
   ]
  },
  {
   "cell_type": "code",
   "execution_count": 13,
   "id": "dadd108e-b5b3-48b7-9688-16cbe4fb349f",
   "metadata": {},
   "outputs": [],
   "source": [
    "!rm -rf ./results/*\n"
   ]
  },
  {
   "cell_type": "code",
   "execution_count": null,
   "id": "42860481-b59f-4a25-bce3-2449085260fc",
   "metadata": {},
   "outputs": [
    {
     "name": "stdout",
     "output_type": "stream",
     "text": [
      "Generating paragraphs:  12%|█▊             | 424/3600 [11:32<1:01:55,  1.17s/it]"
     ]
    }
   ],
   "source": [
    "!python generate2.py \\\n",
    "  --prompts prompts.json \\\n",
    "  --provider google \\\n",
    "  --model google/gemma-3-12b-it\n"
   ]
  },
  {
   "cell_type": "code",
   "execution_count": null,
   "id": "fb381f82-60bd-428a-aecb-221718139167",
   "metadata": {},
   "outputs": [],
   "source": [
    "python generate2.py \\\n",
    "  --prompts prompts.json \\\n",
    "  --provider qwen \\\n",
    "  --model qwen/qwen3-8b\n"
   ]
  }
 ],
 "metadata": {
  "kernelspec": {
   "display_name": "Python 3 (ipykernel)",
   "language": "python",
   "name": "python3"
  },
  "language_info": {
   "codemirror_mode": {
    "name": "ipython",
    "version": 3
   },
   "file_extension": ".py",
   "mimetype": "text/x-python",
   "name": "python",
   "nbconvert_exporter": "python",
   "pygments_lexer": "ipython3",
   "version": "3.10.12"
  }
 },
 "nbformat": 4,
 "nbformat_minor": 5
}
